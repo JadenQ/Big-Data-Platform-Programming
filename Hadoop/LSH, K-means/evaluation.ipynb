{
 "cells": [
  {
   "cell_type": "code",
   "execution_count": 18,
   "metadata": {},
   "outputs": [
    {
     "name": "stdout",
     "output_type": "stream",
     "text": [
      "Wall time: 391 ms\n"
     ]
    },
    {
     "data": {
      "text/plain": [
       "0"
      ]
     },
     "execution_count": 18,
     "metadata": {},
     "output_type": "execute_result"
    }
   ],
   "source": [
    "%%time\n",
    "# TODOs\n",
    "# 1. count the number of images belong to this cluster\n",
    "# 2. find the major label for this cluster\n",
    "# 3. count the number of correctly clustered images\n",
    "# 4. cal the calssification accuracy\n",
    "# Files needed: a) K-means result, b)train.txt\n",
    "\n",
    "import sys\n",
    "import os\n",
    "import numpy as np\n",
    "import gc\n",
    "import pandas as pd\n",
    "\n",
    "# random_seed = 1001\n",
    "# train_file = './train.txt'\n",
    "# cluster_file = './cluster_'+str(random_seed)+'.txt'\n",
    "\n",
    "# for question C\n",
    "part = 5\n",
    "testfile = ['xaa', 'xab','xac','xad','xae']\n",
    "random_seed = 324\n",
    "test_file = testfile[part-1]\n",
    "cluster_file = './cluster_p'+str(part)+'.txt'\n",
    "\n",
    "\n",
    "img_train = []\n",
    "label_train = []\n",
    "with open(test_file) as samples:\n",
    "\tfor line in samples.readlines():\n",
    "\t\tline = line.strip()\n",
    "\t\timg, label = line.split('\\t')\n",
    "\t\tlabel = int(label)\n",
    "\t\t# img = [int(img_item) for img_item in img.split(' ')]\n",
    "\t\timg_train.append(img)\n",
    "\t\tlabel_train.append(label)\n",
    "# ground truth table\n",
    "\n",
    "GT = pd.DataFrame({'label':label_train, 'img':img_train})\n",
    "\n",
    "del img_train, label_train\n",
    "gc.collect()\n",
    "\n",
    "img_cluster = []\n",
    "index_cluster = []\n",
    "with open(cluster_file) as data:\n",
    "\tfor line in data.readlines():\n",
    "\t\tline = line.strip()\n",
    "\t\tindex, img = line.split('\\t')\n",
    "\t\tindex = int(index)\n",
    "\t\t# img = [int(img_item) for img_item in img.split(' ')]\n",
    "\t\timg_cluster.append(img)\n",
    "\t\tindex_cluster.append(index)\n",
    "\n",
    "cluster_result = pd.DataFrame({'index':index_cluster, 'img':img_cluster})\n",
    "\n",
    "del img_cluster, index_cluster\n",
    "gc.collect()\n",
    "\n",
    "GT_cluster = GT.merge(cluster_result, how = 'left', on='img')\n",
    "\n",
    "del GT, cluster_result\n",
    "gc.collect()"
   ]
  },
  {
   "cell_type": "code",
   "execution_count": 19,
   "metadata": {},
   "outputs": [
    {
     "data": {
      "text/html": [
       "<div>\n",
       "<style scoped>\n",
       "    .dataframe tbody tr th:only-of-type {\n",
       "        vertical-align: middle;\n",
       "    }\n",
       "\n",
       "    .dataframe tbody tr th {\n",
       "        vertical-align: top;\n",
       "    }\n",
       "\n",
       "    .dataframe thead th {\n",
       "        text-align: right;\n",
       "    }\n",
       "</style>\n",
       "<table border=\"1\" class=\"dataframe\">\n",
       "  <thead>\n",
       "    <tr style=\"text-align: right;\">\n",
       "      <th></th>\n",
       "      <th>#train images to this cluster</th>\n",
       "      <th>major label</th>\n",
       "      <th>#correct clustered</th>\n",
       "      <th>accuracy</th>\n",
       "    </tr>\n",
       "  </thead>\n",
       "  <tbody>\n",
       "    <tr>\n",
       "      <th>0</th>\n",
       "      <td>1809</td>\n",
       "      <td>3</td>\n",
       "      <td>969</td>\n",
       "      <td>53.565506</td>\n",
       "    </tr>\n",
       "    <tr>\n",
       "      <th>1</th>\n",
       "      <td>792</td>\n",
       "      <td>0</td>\n",
       "      <td>740</td>\n",
       "      <td>93.434343</td>\n",
       "    </tr>\n",
       "    <tr>\n",
       "      <th>2</th>\n",
       "      <td>1183</td>\n",
       "      <td>1</td>\n",
       "      <td>708</td>\n",
       "      <td>59.847844</td>\n",
       "    </tr>\n",
       "    <tr>\n",
       "      <th>3</th>\n",
       "      <td>1593</td>\n",
       "      <td>4</td>\n",
       "      <td>608</td>\n",
       "      <td>38.166981</td>\n",
       "    </tr>\n",
       "    <tr>\n",
       "      <th>4</th>\n",
       "      <td>1468</td>\n",
       "      <td>8</td>\n",
       "      <td>857</td>\n",
       "      <td>58.378747</td>\n",
       "    </tr>\n",
       "    <tr>\n",
       "      <th>5</th>\n",
       "      <td>989</td>\n",
       "      <td>0</td>\n",
       "      <td>519</td>\n",
       "      <td>52.477250</td>\n",
       "    </tr>\n",
       "    <tr>\n",
       "      <th>6</th>\n",
       "      <td>1078</td>\n",
       "      <td>7</td>\n",
       "      <td>978</td>\n",
       "      <td>90.723562</td>\n",
       "    </tr>\n",
       "    <tr>\n",
       "      <th>7</th>\n",
       "      <td>1705</td>\n",
       "      <td>4</td>\n",
       "      <td>668</td>\n",
       "      <td>39.178886</td>\n",
       "    </tr>\n",
       "    <tr>\n",
       "      <th>8</th>\n",
       "      <td>1301</td>\n",
       "      <td>1</td>\n",
       "      <td>854</td>\n",
       "      <td>65.641814</td>\n",
       "    </tr>\n",
       "    <tr>\n",
       "      <th>9</th>\n",
       "      <td>2082</td>\n",
       "      <td>6</td>\n",
       "      <td>1105</td>\n",
       "      <td>53.073967</td>\n",
       "    </tr>\n",
       "  </tbody>\n",
       "</table>\n",
       "</div>"
      ],
      "text/plain": [
       "   #train images to this cluster  major label  #correct clustered   accuracy\n",
       "0                           1809            3                 969  53.565506\n",
       "1                            792            0                 740  93.434343\n",
       "2                           1183            1                 708  59.847844\n",
       "3                           1593            4                 608  38.166981\n",
       "4                           1468            8                 857  58.378747\n",
       "5                            989            0                 519  52.477250\n",
       "6                           1078            7                 978  90.723562\n",
       "7                           1705            4                 668  39.178886\n",
       "8                           1301            1                 854  65.641814\n",
       "9                           2082            6                1105  53.073967"
      ]
     },
     "execution_count": 19,
     "metadata": {},
     "output_type": "execute_result"
    }
   ],
   "source": [
    "num_train_images = list(GT_cluster['index'].value_counts().sort_index())\n",
    "# group by index\n",
    "for i in range(10):\n",
    "    name='index_'+str(i)\n",
    "    locals()['index_'+str(i)]=GT_cluster[GT_cluster['index'] == i]\n",
    "\n",
    "num_correct = []\n",
    "major_label = []\n",
    "acc = [] # acc\n",
    "for i in range(10):\n",
    "    n_c = locals()['index_'+str(i)]['label'].value_counts().max()\n",
    "    m_l = locals()['index_'+str(i)]['label'].value_counts().idxmax()\n",
    "    n_a = len(locals()['index_'+str(i)]) # number of images in this index\n",
    "    num_correct.append(n_c)\n",
    "    major_label.append(m_l)\n",
    "    acc.append((n_c / n_a)*100)\n",
    "\n",
    "result = pd.DataFrame({'#train images to this cluster': num_train_images, 'major label': major_label,\n",
    "                      '#correct clustered':num_correct, 'accuracy': acc})\n",
    "result"
   ]
  },
  {
   "cell_type": "code",
   "execution_count": 20,
   "metadata": {},
   "outputs": [
    {
     "name": "stdout",
     "output_type": "stream",
     "text": [
      "14000\n",
      "8006\n",
      "57.18571428571428\n"
     ]
    }
   ],
   "source": [
    "print(sum(num_train_images))\n",
    "print(sum(num_correct))\n",
    "print((sum(num_correct) / sum(num_train_images))*100)"
   ]
  },
  {
   "cell_type": "code",
   "execution_count": 21,
   "metadata": {},
   "outputs": [
    {
     "data": {
      "text/plain": [
       "58.8716"
      ]
     },
     "execution_count": 21,
     "metadata": {},
     "output_type": "execute_result"
    }
   ],
   "source": [
    "(59.636 + 58.55+57.957+61.029+57.186) / 5"
   ]
  }
 ],
 "metadata": {
  "kernelspec": {
   "display_name": "Python 3",
   "language": "python",
   "name": "python3"
  },
  "language_info": {
   "codemirror_mode": {
    "name": "ipython",
    "version": 3
   },
   "file_extension": ".py",
   "mimetype": "text/x-python",
   "name": "python",
   "nbconvert_exporter": "python",
   "pygments_lexer": "ipython3",
   "version": "3.7.3"
  }
 },
 "nbformat": 4,
 "nbformat_minor": 2
}
