{
 "cells": [
  {
   "cell_type": "code",
   "execution_count": 6,
   "metadata": {},
   "outputs": [
    {
     "name": "stderr",
     "output_type": "stream",
     "text": [
      "D:\\software\\anaconda\\lib\\site-packages\\statsmodels\\tools\\_testing.py:19: FutureWarning: pandas.util.testing is deprecated. Use the functions in the public API at pandas.testing instead.\n",
      "  import pandas.util.testing as tm\n"
     ]
    }
   ],
   "source": [
    "%matplotlib inline\n",
    "import pandas as pd\n",
    "import matplotlib.pyplot as plt\n",
    "import numpy as np\n",
    "import seaborn as sns"
   ]
  },
  {
   "cell_type": "markdown",
   "metadata": {},
   "source": [
    "# Question1"
   ]
  },
  {
   "cell_type": "markdown",
   "metadata": {},
   "source": [
    "## 1. PCA"
   ]
  },
  {
   "cell_type": "markdown",
   "metadata": {},
   "source": [
    "### 1.1 Scaling\n",
    "<font size = 3>A function to standardize the data as 2-D array data type.</font>\n",
    "<font size = 5><center>$z = \\frac{x_i-μ(X)}{σ(X)}$</center></font>"
   ]
  },
  {
   "cell_type": "code",
   "execution_count": 2,
   "metadata": {},
   "outputs": [],
   "source": [
    "def standardize_data(X):\n",
    "         \n",
    "    '''\n",
    "    This function standardize an array, its substracts mean value, \n",
    "    and then divide the standard deviation.\n",
    "    \n",
    "    param 1: array \n",
    "    return: standardized array\n",
    "    '''    \n",
    "    rows, columns = X.shape\n",
    "    \n",
    "    standardizedArray = np.zeros(shape=(rows, columns))\n",
    "    tempArray = np.zeros(rows)\n",
    "    \n",
    "    for column in range(columns):\n",
    "        \n",
    "        mean = np.mean(X[:,column])\n",
    "        std = np.std(X[:,column])\n",
    "        tempArray = np.empty(0)\n",
    "        \n",
    "        for element in X[:,column]:\n",
    "            \n",
    "            tempArray = np.append(tempArray, ((element - mean) / std))\n",
    " \n",
    "        standardizedArray[:,column] = tempArray\n",
    "    \n",
    "    return standardizedArray"
   ]
  },
  {
   "cell_type": "code",
   "execution_count": 237,
   "metadata": {},
   "outputs": [],
   "source": [
    "# # Standardizing data\n",
    "X = [[7,4,3,4],\n",
    "          [4,1,8,3],\n",
    "          [6,3,5,2],\n",
    "          [8,3,2,10],\n",
    "          [4,5,0,9],\n",
    "          [1,3,2,5],\n",
    "          [6,6,3,2],\n",
    "          [8,3,3,6]]\n",
    "X = np.array(X)\n",
    "X = standardize_data(X)\n",
    "# X = standardize_img(X)"
   ]
  },
  {
   "cell_type": "markdown",
   "metadata": {},
   "source": [
    "### 1.2 Convariance matrix\n",
    "<font size = 3>Covariance matrices, like correlation matrices, contain information about the amount of variance shared between pairs of variables. That is our method of optimizing.</font>\n",
    "\n",
    "\n",
    "<font size=4><center>$Covariance Matrix = \\frac{1}{n-1}(X-\\tilde{x})^T(X-\\tilde{x})$</center></font>\n"
   ]
  },
  {
   "cell_type": "code",
   "execution_count": 238,
   "metadata": {},
   "outputs": [
    {
     "data": {
      "text/plain": [
       "array([[ 1.14285714e+00,  1.35526185e-01, -2.97278203e-17,\n",
       "         1.68261412e-01],\n",
       "       [ 1.35526185e-01,  1.14285714e+00, -7.72827076e-01,\n",
       "         5.32089304e-02],\n",
       "       [-2.97278203e-17, -7.72827076e-01,  1.14285714e+00,\n",
       "        -7.50665339e-01],\n",
       "       [ 1.68261412e-01,  5.32089304e-02, -7.50665339e-01,\n",
       "         1.14285714e+00]])"
      ]
     },
     "execution_count": 238,
     "metadata": {},
     "output_type": "execute_result"
    }
   ],
   "source": [
    "# Calculating the covariance matrix\n",
    "\n",
    "# covariance_matrix = np.cov(X.T)\n",
    "covariance_matrix = (X.T@X) /( X.shape[0] - 1)\n",
    "covariance_matrix"
   ]
  },
  {
   "cell_type": "markdown",
   "metadata": {},
   "source": [
    "### 1.3 Eigenvectors and Eigenvalues\n",
    "Eigendecomposition of the Covariance Matrix, we get project matrix from this."
   ]
  },
  {
   "cell_type": "code",
   "execution_count": 239,
   "metadata": {},
   "outputs": [
    {
     "name": "stdout",
     "output_type": "stream",
     "text": [
      "Eigenvector: \n",
      " [[ 0.13644815  0.13976035  0.9089799  -0.36824516]\n",
      " [ 0.51054059 -0.499269   -0.26274585 -0.64887857]\n",
      " [-0.68503892 -0.70183311  0.18139953 -0.07243056]\n",
      " [ 0.50144979 -0.48849545  0.26798204  0.66189571]] \n",
      "\n",
      "Eigenvalues: \n",
      " [2.26831228 0.07060051 1.15328872 1.07922706] \n",
      "\n"
     ]
    }
   ],
   "source": [
    "# Using np.linalg.eig function\n",
    "eigen_values, eigen_vectors = np.linalg.eig(covariance_matrix)\n",
    "print(\"Eigenvector: \\n\",eigen_vectors,\"\\n\")\n",
    "print(\"Eigenvalues: \\n\", eigen_values, \"\\n\")"
   ]
  },
  {
   "cell_type": "markdown",
   "metadata": {},
   "source": [
    "### 1.4 Select principle components to get project matrix"
   ]
  },
  {
   "cell_type": "code",
   "execution_count": 240,
   "metadata": {},
   "outputs": [
    {
     "name": "stdout",
     "output_type": "stream",
     "text": [
      "[49.6193311513078, 25.22819072096042, 23.608091986225205, 1.5443861415065827]\n"
     ]
    }
   ],
   "source": [
    "# Calculating the explained variance on each of components\n",
    "eigen_v_sort = np.flip(np.sort(eigen_values))\n",
    "variance_explained = []\n",
    "for i in eigen_v_sort:\n",
    "     variance_explained.append((i/sum(eigen_v_sort))*100)\n",
    "        \n",
    "print(variance_explained)"
   ]
  },
  {
   "cell_type": "code",
   "execution_count": 241,
   "metadata": {},
   "outputs": [
    {
     "name": "stdout",
     "output_type": "stream",
     "text": [
      "[ 49.61933115  74.84752187  98.45561386 100.        ]\n"
     ]
    }
   ],
   "source": [
    "# Find the eigenvector with the 2 highest contribution\n",
    "# ranking by eigenvalues\n",
    "\n",
    "cumulative_variance_explained = np.cumsum(variance_explained)\n",
    "print(cumulative_variance_explained)"
   ]
  },
  {
   "cell_type": "code",
   "execution_count": 242,
   "metadata": {},
   "outputs": [
    {
     "data": {
      "text/plain": [
       "Text(0.5, 1.0, 'Explained variance vs Number of components')"
      ]
     },
     "execution_count": 242,
     "metadata": {},
     "output_type": "execute_result"
    },
    {
     "data": {
      "image/png": "[encoded data removed]",
      "text/plain": [
       "<Figure size 432x288 with 1 Axes>"
      ]
     },
     "metadata": {
      "needs_background": "light"
     },
     "output_type": "display_data"
    }
   ],
   "source": [
    "# Visualizing the eigenvalues and finding the \"elbow\" in the graphic\n",
    "sns.lineplot(x = [1,2,3,4], y=cumulative_variance_explained)\n",
    "plt.xlabel(\"Number of components\")\n",
    "plt.ylabel(\"Cumulative explained variance\")\n",
    "plt.title(\"Explained variance vs Number of components\")"
   ]
  },
  {
   "cell_type": "code",
   "execution_count": 243,
   "metadata": {},
   "outputs": [
    {
     "name": "stdout",
     "output_type": "stream",
     "text": [
      "Sorted eigenvalues:  [2.26831228 1.15328872 1.07922706 0.07060051]\n",
      "Ranked index of eigenvectors:  [0 2 3 1]\n"
     ]
    }
   ],
   "source": [
    "print('Sorted eigenvalues: ',eigen_v_sort)\n",
    "eigen_v_argsort = np.flip(np.argsort(eigen_values))\n",
    "print('Ranked index of eigenvectors: ',eigen_v_argsort)"
   ]
  },
  {
   "cell_type": "code",
   "execution_count": 244,
   "metadata": {},
   "outputs": [
    {
     "name": "stdout",
     "output_type": "stream",
     "text": [
      "[[ 0.13644815  0.9089799 ]\n",
      " [ 0.51054059 -0.26274585]\n",
      " [-0.68503892  0.18139953]\n",
      " [ 0.50144979  0.26798204]]\n"
     ]
    }
   ],
   "source": [
    "# Using the two largest components \n",
    "projection_matrix = (eigen_vectors.T[:][(eigen_v_argsort[:2])]).T\n",
    "print(projection_matrix)"
   ]
  },
  {
   "cell_type": "markdown",
   "metadata": {},
   "source": [
    "### 1.5 Use project matrix to project data into lower dimension.\n",
    "\n",
    "<font size = 4><center>$X_{pca} = X · P$</center></font>"
   ]
  },
  {
   "cell_type": "code",
   "execution_count": 245,
   "metadata": {},
   "outputs": [
    {
     "name": "stdout",
     "output_type": "stream",
     "text": [
      "[[ 0.15100763  0.39059057]\n",
      " [-2.83262452  0.04251018]\n",
      " [-1.23978299  0.14493442]\n",
      " [ 1.21585172  1.46588103]\n",
      " [ 2.13427285 -0.78910758]\n",
      " [-0.09174666 -1.85020038]\n",
      " [ 0.45982034 -0.57570604]\n",
      " [ 0.20320163  1.17109781]]\n"
     ]
    }
   ],
   "source": [
    "# Getting the product of original standardized X and the eigenvectors \n",
    "X_pca = X.dot(projection_matrix)\n",
    "print(X_pca)"
   ]
  },
  {
   "cell_type": "code",
   "execution_count": 246,
   "metadata": {},
   "outputs": [
    {
     "data": {
      "image/png": "[encoded data removed]",
      "text/plain": [
       "<Figure size 432x288 with 1 Axes>"
      ]
     },
     "metadata": {
      "needs_background": "light"
     },
     "output_type": "display_data"
    }
   ],
   "source": [
    "plt.scatter(X_pca[:,0],X_pca[:,1])\n",
    "plt.show()"
   ]
  },
  {
   "cell_type": "code",
   "execution_count": 284,
   "metadata": {},
   "outputs": [
    {
     "data": {
      "text/plain": [
       "-0.6708203932499369"
      ]
     },
     "execution_count": 284,
     "metadata": {},
     "output_type": "execute_result"
    }
   ],
   "source": [
    "(4 - sum(X.T[:][0]) / 8 ) / np.std(X.T[:][0])"
   ]
  },
  {
   "cell_type": "code",
   "execution_count": 258,
   "metadata": {},
   "outputs": [
    {
     "data": {
      "text/plain": [
       "2.23606797749979"
      ]
     },
     "execution_count": 258,
     "metadata": {},
     "output_type": "execute_result"
    }
   ],
   "source": [
    "np.std(X.T[:][0])"
   ]
  },
  {
   "cell_type": "markdown",
   "metadata": {},
   "source": [
    "## SVD"
   ]
  },
  {
   "cell_type": "code",
   "execution_count": 142,
   "metadata": {},
   "outputs": [],
   "source": [
    "X = [[7,4,3,4],\n",
    "          [4,1,8,3],\n",
    "          [6,3,5,2],\n",
    "          [8,3,2,10],\n",
    "          [4,5,0,9],\n",
    "          [1,3,2,5],\n",
    "          [6,6,3,2],\n",
    "          [8,3,3,6]]\n",
    "X = np.array(X)\n",
    "# X = standardize_data(X)\n",
    "def SVD_UV(M):\n",
    "    eigen_values, eigen_vectors = np.linalg.eig(M)\n",
    "    print(\"Eigenvector: \\n\",eigen_vectors,\"\\n\")\n",
    "    print(\"Eigenvalues: \\n\", np.real(np.round(eigen_values, decimals = 5)), \"\\n\")\n",
    "    # in this case, there are 4 eigenvectos\n",
    "    V = []\n",
    "    for i in range(len(eigen_values)):\n",
    "        locals()['v'+str(i+1)] = eigen_vectors.T[i]\n",
    "        V.append(locals()['v'+str(i+1)])\n",
    "    V = np.array(V).T\n",
    "    return V, eigen_vectors, eigen_values"
   ]
  },
  {
   "cell_type": "markdown",
   "metadata": {},
   "source": [
    "### 2.1 Get matrix U\n",
    "<font size = 4><center>$X=UΣV^T$</center></font>\n",
    "<font size = 3>Get $XX^T$, </font>\n",
    "\n",
    "<font size = 3>　then, $λ_1,λ_2,λ_3...λ_m$ are eigenvalues and $u_1,u_2,...u_m$ are eigenvectors. $U = [u_1　u_2　u_3　...　u_m]$<font>"
   ]
  },
  {
   "cell_type": "code",
   "execution_count": 162,
   "metadata": {
    "scrolled": true
   },
   "outputs": [
    {
     "name": "stdout",
     "output_type": "stream",
     "text": [
      "Eigenvector: \n",
      " [[-0.35879436+0.j         -0.13087218+0.j         -0.28210155+0.j\n",
      "  -0.10937713+0.j         -0.69305193+0.j          0.11830377+0.j\n",
      "   0.19237939+0.27083558j  0.19237939-0.27083558j]\n",
      " [-0.28185628+0.j         -0.55444447+0.j          0.63656428+0.j\n",
      "   0.18285205+0.j          0.14329702+0.j         -0.40617149+0.j\n",
      "  -0.24826586-0.09626346j -0.24826586+0.09626346j]\n",
      " [-0.29904526+0.j         -0.41572783+0.j         -0.10187329+0.j\n",
      "  -0.00868583+0.j         -0.26148609+0.j          0.5980671 +0.j\n",
      "   0.5859327 +0.j          0.5859327 -0.j        ]\n",
      " [-0.49389927+0.j          0.33677013+0.j          0.2283382 +0.j\n",
      "  -0.43277044+0.j          0.2981359 +0.j         -0.02465343+0.j\n",
      "   0.1621392 +0.13409572j  0.1621392 -0.13409572j]\n",
      " [-0.37730965+0.j          0.55209639+0.j          0.01359903+0.j\n",
      "   0.36706183+0.j         -0.12062198+0.j         -0.23324755+0.j\n",
      "  -0.04439811-0.222658j   -0.04439811+0.222658j  ]\n",
      " [-0.20822796+0.j          0.17480329+0.j          0.25822969+0.j\n",
      "   0.57548639+0.j         -0.1489307 +0.j          0.5237536 +0.j\n",
      "   0.14577733+0.22954853j  0.14577733-0.22954853j]\n",
      " [-0.31759845+0.j         -0.23075496+0.j         -0.61867822+0.j\n",
      "   0.36465993+0.j          0.54235454+0.j         -0.36607748+0.j\n",
      "  -0.28143366-0.06501134j -0.28143366+0.06501134j]\n",
      " [-0.41457069+0.j         -0.02460867+0.j         -0.05529814+0.j\n",
      "  -0.41029286+0.j          0.10491203+0.j          0.00138573+0.j\n",
      "  -0.43073563-0.19155119j -0.43073563+0.19155119j]] \n",
      "\n",
      "Eigenvalues: \n",
      " [669.14457  80.19933  28.6748   16.98129   0.       -0.        0.\n",
      "   0.     ] \n",
      "\n",
      "[[-0.35879436 -0.13087218 -0.28210155 -0.10937713 -0.69305193  0.11830377\n",
      "   0.19237939  0.19237939]\n",
      " [-0.28185628 -0.55444447  0.63656428  0.18285205  0.14329702 -0.40617149\n",
      "  -0.24826586 -0.24826586]\n",
      " [-0.29904526 -0.41572783 -0.10187329 -0.00868583 -0.26148609  0.5980671\n",
      "   0.5859327   0.5859327 ]\n",
      " [-0.49389927  0.33677013  0.2283382  -0.43277044  0.2981359  -0.02465343\n",
      "   0.1621392   0.1621392 ]\n",
      " [-0.37730965  0.55209639  0.01359903  0.36706183 -0.12062198 -0.23324755\n",
      "  -0.04439811 -0.04439811]\n",
      " [-0.20822796  0.17480329  0.25822969  0.57548639 -0.1489307   0.5237536\n",
      "   0.14577733  0.14577733]\n",
      " [-0.31759845 -0.23075496 -0.61867822  0.36465993  0.54235454 -0.36607748\n",
      "  -0.28143366 -0.28143366]\n",
      " [-0.41457069 -0.02460867 -0.05529814 -0.41029286  0.10491203  0.00138573\n",
      "  -0.43073563 -0.43073563]]\n"
     ]
    }
   ],
   "source": [
    "U, e_vec, e_val = SVD_UV(X@X.T)\n",
    "print(np.real(U))"
   ]
  },
  {
   "cell_type": "markdown",
   "metadata": {},
   "source": [
    "### 2.2 Get matrix V\n",
    "<font size = 4><center>$X=UΣV^T$</center></font>\n",
    "<font size = 3>Get $X^TX$, </font>\n",
    "\n",
    "<font size = 3>　then, $λ_1,λ_2,λ_3...λ_n$ are eigenvalues and $v_1,v_2,...v_n$ are eigenvectors. $V = [v_1　v_2　v_3　...　v_n]$<font>"
   ]
  },
  {
   "cell_type": "code",
   "execution_count": 163,
   "metadata": {},
   "outputs": [
    {
     "name": "stdout",
     "output_type": "stream",
     "text": [
      "Eigenvector: \n",
      " [[ 0.63105699  0.23810187 -0.63073597 -0.3837274 ]\n",
      " [ 0.37716355 -0.05714198  0.71340467 -0.58782329]\n",
      " [ 0.32578001  0.74254078  0.30085856  0.50198078]\n",
      " [ 0.59445952 -0.62343844  0.05205803  0.50520526]] \n",
      "\n",
      "Eigenvalues: \n",
      " [669.14457  80.19933  16.98129  28.6748 ] \n",
      "\n",
      "[[ 0.63105699  0.23810187 -0.63073597 -0.3837274 ]\n",
      " [ 0.37716355 -0.05714198  0.71340467 -0.58782329]\n",
      " [ 0.32578001  0.74254078  0.30085856  0.50198078]\n",
      " [ 0.59445952 -0.62343844  0.05205803  0.50520526]]\n"
     ]
    }
   ],
   "source": [
    "V, e_vec, e_val = SVD_UV(X.T@X)\n",
    "print(np.real(V))"
   ]
  },
  {
   "cell_type": "markdown",
   "metadata": {},
   "source": [
    "### 2.3 Get matrix Σ\n",
    "<font size = 4><center>$X=UΣV^T$</center></font>\n",
    "\n",
    "\n",
    "<font size = 3>Because U and V are orthogonal, so $U^{-1} = U^T, V^{-1} = V^T$</font>\n",
    "\n",
    "\n",
    "<font size = 4><center>$Σ=U^TXV$</center></font>"
   ]
  },
  {
   "cell_type": "code",
   "execution_count": 164,
   "metadata": {},
   "outputs": [
    {
     "name": "stdout",
     "output_type": "stream",
     "text": [
      "(8, 8)\n",
      "(4, 4)\n"
     ]
    }
   ],
   "source": [
    "print(U.shape)\n",
    "print(V.shape)"
   ]
  },
  {
   "cell_type": "code",
   "execution_count": 165,
   "metadata": {},
   "outputs": [
    {
     "data": {
      "text/plain": [
       "array([[-25.86783,  -0.     ,  -0.     ,  -0.     ],\n",
       "       [ -0.     ,  -8.95541,   0.     ,  -0.     ],\n",
       "       [ -0.     ,   0.     ,   0.     ,   5.35489],\n",
       "       [ -0.     ,   0.     ,   4.12084,  -0.     ],\n",
       "       [  0.     ,  -0.     ,   0.     ,  -0.     ],\n",
       "       [ -0.     ,  -0.     ,   0.     ,   0.     ],\n",
       "       [  0.     ,  -0.     ,  -0.     ,   0.     ],\n",
       "       [  0.     ,  -0.     ,  -0.     ,   0.     ]])"
      ]
     },
     "execution_count": 165,
     "metadata": {},
     "output_type": "execute_result"
    }
   ],
   "source": [
    "# method 1\n",
    "Sigma = U.T@X@V\n",
    "Sigma = np.real(np.round(Sigma, decimals = 5))\n",
    "Sigma"
   ]
  },
  {
   "cell_type": "code",
   "execution_count": 166,
   "metadata": {},
   "outputs": [
    {
     "data": {
      "text/plain": [
       "array([[25.86782891,  0.        ,  0.        ,  0.        ],\n",
       "       [ 0.        ,  8.95540787,  0.        ,  0.        ],\n",
       "       [ 0.        ,  0.        ,  4.12083655,  0.        ],\n",
       "       [ 0.        ,  0.        ,  0.        ,  5.35488596]])"
      ]
     },
     "execution_count": 166,
     "metadata": {},
     "output_type": "execute_result"
    }
   ],
   "source": [
    "#method2\n",
    "\n",
    "dim = 4 # 1 ~ 4\n",
    "Sigma = []\n",
    "for i in range(dim):\n",
    "    sig = list(np.zeros(dim))\n",
    "    sig[i] = np.sqrt(e_val[i])\n",
    "    Sigma.append(sig)\n",
    "Sigma = np.array(Sigma)\n",
    "Sigma"
   ]
  },
  {
   "cell_type": "markdown",
   "metadata": {},
   "source": [
    "### 2.4 Select U and V\n",
    "The first 2 vectors that has the 2 largest eigenvalues to do dimension deduction."
   ]
  },
  {
   "cell_type": "code",
   "execution_count": 167,
   "metadata": {},
   "outputs": [
    {
     "name": "stdout",
     "output_type": "stream",
     "text": [
      "(8, 2)\n",
      "(4, 2)\n"
     ]
    }
   ],
   "source": [
    "V = V.T[:2].T\n",
    "U = U.T[:2].T\n",
    "# U = U[:,[0,2]]\n",
    "# V = V[:,[0,2]]\n",
    "print(U.shape)\n",
    "print(V.shape)"
   ]
  },
  {
   "cell_type": "code",
   "execution_count": 168,
   "metadata": {},
   "outputs": [
    {
     "data": {
      "text/plain": [
       "array([[-0.35879436+0.j, -0.13087218+0.j],\n",
       "       [-0.28185628+0.j, -0.55444447+0.j],\n",
       "       [-0.29904526+0.j, -0.41572783+0.j],\n",
       "       [-0.49389927+0.j,  0.33677013+0.j],\n",
       "       [-0.37730965+0.j,  0.55209639+0.j],\n",
       "       [-0.20822796+0.j,  0.17480329+0.j],\n",
       "       [-0.31759845+0.j, -0.23075496+0.j],\n",
       "       [-0.41457069+0.j, -0.02460867+0.j]])"
      ]
     },
     "execution_count": 168,
     "metadata": {},
     "output_type": "execute_result"
    }
   ],
   "source": [
    "U"
   ]
  },
  {
   "cell_type": "code",
   "execution_count": 169,
   "metadata": {},
   "outputs": [
    {
     "data": {
      "text/plain": [
       "array([[25.86782891,  0.        ],\n",
       "       [ 0.        ,  8.95540787]])"
      ]
     },
     "execution_count": 169,
     "metadata": {},
     "output_type": "execute_result"
    }
   ],
   "source": [
    "dim = 2\n",
    "low_Sigma = np.zeros([dim,dim])\n",
    "selected_v = np.flip(np.sort(Sigma[Sigma!=0]))[:2]\n",
    "for i in range(dim):\n",
    "    low_Sigma[i][i] = selected_v[i]\n",
    "low_Sigma"
   ]
  },
  {
   "cell_type": "markdown",
   "metadata": {},
   "source": [
    "### 2.5 Calculate $X_{SVD}$\n",
    "<font size = 4><center>$X_{SVD}=UΣ$</center></font>"
   ]
  },
  {
   "cell_type": "code",
   "execution_count": 170,
   "metadata": {},
   "outputs": [
    {
     "name": "stdout",
     "output_type": "stream",
     "text": [
      "[[ -9.28123122+0.j  -1.17201372+0.j]\n",
      " [ -7.29101013+0.j  -4.96527639+0.j]\n",
      " [ -7.73565166+0.j  -3.72301227+0.j]\n",
      " [-12.77610177+0.j   3.01591383+0.j]\n",
      " [ -9.76018138+0.j   4.9442484 +0.j]\n",
      " [ -5.38640526+0.j   1.56543473+0.j]\n",
      " [ -8.21558229+0.j  -2.06650476+0.j]\n",
      " [-10.72404369+0.j  -0.2203807 +0.j]]\n"
     ]
    },
    {
     "name": "stderr",
     "output_type": "stream",
     "text": [
      "D:\\software\\anaconda\\lib\\site-packages\\numpy\\core\\_asarray.py:136: ComplexWarning: Casting complex values to real discards the imaginary part\n",
      "  return array(a, dtype, copy=False, order=order, subok=True)\n"
     ]
    },
    {
     "data": {
      "image/png": "[encoded data removed]",
      "text/plain": [
       "<Figure size 432x288 with 1 Axes>"
      ]
     },
     "metadata": {
      "needs_background": "light"
     },
     "output_type": "display_data"
    }
   ],
   "source": [
    "X_svd = U@low_Sigma\n",
    "# X_svd = np.real(np.round(X_svd, decimals = 5))\n",
    "print(X_svd)\n",
    "plt.scatter(X_svd[:,0],X_svd[:,1])\n",
    "plt.show()"
   ]
  },
  {
   "cell_type": "markdown",
   "metadata": {},
   "source": [
    "### 2.6 Use scipy and sklearn to double check the SVD"
   ]
  },
  {
   "cell_type": "code",
   "execution_count": 175,
   "metadata": {
    "scrolled": true
   },
   "outputs": [
    {
     "name": "stdout",
     "output_type": "stream",
     "text": [
      "U:    [[-0.35879436  0.13087218 -0.28210155 -0.10937713  0.09431428  0.43055152\n",
      "  -0.48026244 -0.58109606]\n",
      " [-0.28185628  0.55444447  0.63656428  0.18285205  0.30929411  0.04165988\n",
      "   0.23086321 -0.15428284]\n",
      " [-0.29904526  0.41572783 -0.10187329 -0.00868583 -0.25177775 -0.62156135\n",
      "  -0.47749824  0.22260632]\n",
      " [-0.49389927 -0.33677013  0.2283382  -0.43277044 -0.41856906 -0.20151607\n",
      "   0.32492461 -0.28606995]\n",
      " [-0.37730965 -0.55209639  0.01359903  0.36706183  0.55100295 -0.30790544\n",
      "  -0.13931917  0.00937211]\n",
      " [-0.20822796 -0.17480329  0.25822969  0.57548639 -0.54773906  0.38103735\n",
      "  -0.19613916  0.2110442 ]\n",
      " [-0.31759845  0.23075496 -0.61867822  0.36465993 -0.07383922 -0.0073497\n",
      "   0.56970627 -0.008502  ]\n",
      " [-0.41457069  0.02460867 -0.05529814 -0.41029286  0.21857564  0.38195989\n",
      "   0.00489438  0.6800256 ]]\n",
      "Sigma:  [25.86782891  8.95540787  5.35488596  4.12083655]\n",
      "V.T:  [[-0.63105699 -0.37716355 -0.32578001 -0.59445952]\n",
      " [ 0.23810187 -0.05714198  0.74254078 -0.62343844]\n",
      " [-0.3837274  -0.58782329  0.50198078  0.50520526]\n",
      " [-0.63073597  0.71340467  0.30085856  0.05205803]]\n",
      "d_U:   [[-0.35879436  0.13087218]\n",
      " [-0.28185628  0.55444447]\n",
      " [-0.29904526  0.41572783]\n",
      " [-0.49389927 -0.33677013]\n",
      " [-0.37730965 -0.55209639]\n",
      " [-0.20822796 -0.17480329]\n",
      " [-0.31759845  0.23075496]\n",
      " [-0.41457069  0.02460867]]\n",
      "[[ -9.28123122   1.17201372]\n",
      " [ -7.29101013   4.96527639]\n",
      " [ -7.73565166   3.72301227]\n",
      " [-12.77610177  -3.01591383]\n",
      " [ -9.76018138  -4.9442484 ]\n",
      " [ -5.38640526  -1.56543473]\n",
      " [ -8.21558229   2.06650476]\n",
      " [-10.72404369   0.2203807 ]]\n"
     ]
    },
    {
     "data": {
      "image/png": "[encoded data removed]",
      "text/plain": [
       "<Figure size 432x288 with 1 Axes>"
      ]
     },
     "metadata": {
      "needs_background": "light"
     },
     "output_type": "display_data"
    }
   ],
   "source": [
    "from scipy.linalg import svd\n",
    "X = [[7,4,3,4],\n",
    "          [4,1,8,3],\n",
    "          [6,3,5,2],\n",
    "          [8,3,2,10],\n",
    "          [4,5,0,9],\n",
    "          [1,3,2,5],\n",
    "          [6,6,3,2],\n",
    "          [8,3,3,6]]\n",
    "X = np.array(X)\n",
    "U, s, VT = svd(X)\n",
    "print('U:   ',U)\n",
    "print('Sigma: ',s)\n",
    "print('V.T: ',VT)\n",
    "Sigma = np.zeros([2,2])\n",
    "dim = 2\n",
    "for i in range(dim):\n",
    "    Sigma[i][i] = s[i]\n",
    "d_U = U.T[:2]\n",
    "d_U = d_U.T\n",
    "print('d_U:  ',d_U)\n",
    "X_svd = d_U@Sigma\n",
    "print(X_svd)\n",
    "plt.scatter(X_svd[:,0],X_svd[:,1])\n",
    "plt.show()"
   ]
  },
  {
   "cell_type": "code",
   "execution_count": 191,
   "metadata": {},
   "outputs": [
    {
     "name": "stdout",
     "output_type": "stream",
     "text": [
      "[[ 9.28123122  1.17201372]\n",
      " [ 7.29101013  4.96527639]\n",
      " [ 7.73565166  3.72301227]\n",
      " [12.77610177 -3.01591383]\n",
      " [ 9.76018138 -4.9442484 ]\n",
      " [ 5.38640526 -1.56543473]\n",
      " [ 8.21558229  2.06650476]\n",
      " [10.72404369  0.2203807 ]]\n"
     ]
    },
    {
     "data": {
      "image/png": "[encoded data removed]",
      "text/plain": [
       "<Figure size 432x288 with 1 Axes>"
      ]
     },
     "metadata": {
      "needs_background": "light"
     },
     "output_type": "display_data"
    }
   ],
   "source": [
    "from sklearn.decomposition import TruncatedSVD\n",
    "# define transform\n",
    "svd = TruncatedSVD(n_components = 2)\n",
    "# prepare transform on dataset\n",
    "svd.fit(X)\n",
    "# apply transform to dataset\n",
    "X_svd = svd.transform(X)\n",
    "print(X_svd)\n",
    "plt.scatter(X_svd[:,0],X_svd[:,1])\n",
    "plt.show()"
   ]
  },
  {
   "cell_type": "markdown",
   "metadata": {},
   "source": [
    "# Question2"
   ]
  },
  {
   "cell_type": "markdown",
   "metadata": {},
   "source": [
    "## 3. Implement PCA to MINIST dataset"
   ]
  },
  {
   "cell_type": "code",
   "execution_count": 17,
   "metadata": {},
   "outputs": [],
   "source": [
    "from sklearn.decomposition import PCA\n",
    "from sklearn.preprocessing import StandardScaler\n",
    "import os\n",
    "\n",
    "\n",
    "# I implement new standardize method to deal with the image data\n",
    "def standardize_img(img_data):\n",
    "    row, col = img_data.shape[0], img_data.shape[1]\n",
    "    s_img = []\n",
    "    for i in range(col):\n",
    "        x = img_data[:,i].reshape(-1, 1)\n",
    "        x = StandardScaler().fit_transform(x)\n",
    "        s_img.append(x.reshape(1,row))\n",
    "    s_img = np.array(s_img)\n",
    "    result = np.zeros([row, col])\n",
    "    for i in range(row):\n",
    "        for j in range(col):\n",
    "            result[i][j] = s_img[j][0][i]\n",
    "    return result\n",
    "\n",
    "# my implementation of PCA purly with Numpy\n",
    "def myPCA(X, M):\n",
    "    X = standardize_img(X)\n",
    "    covariance_matrix = (X.T@X) / (X.shape[0] - 1)\n",
    "    eigen_values, eigen_vectors = np.linalg.eig(covariance_matrix)\n",
    "    eigen_v_argsort = np.flip(np.argsort(eigen_values))\n",
    "    values_ = eigen_values[eigen_v_argsort[:M]]\n",
    "    components_ = (eigen_vectors.T[:][(eigen_v_argsort[:M])])\n",
    "    projection_matrix = components_.T\n",
    "    X_pca = X.dot(projection_matrix)\n",
    "    return X_pca, components_, values_, eigen_vectors,eigen_values\n",
    "\n",
    "# implementation of PCA of sklearn as reference\n",
    "def useSkPCA(X, M):    \n",
    "    X = standardize_img(X)\n",
    "    pca = PCA(n_components=M)\n",
    "    pca.fit(X)\n",
    "    X_pca = pca.transform(X)\n",
    "    ratio = pca.explained_variance_ratio_\n",
    "    values = pca.explained_variance_\n",
    "    comp = pca.components_\n",
    "    return X_pca, ratio, values, comp\n",
    "\n",
    "# load data\n",
    "def load_raw(fname):\n",
    "    img_set = []\n",
    "    label_set = []\n",
    "    with open(fname) as samples:\n",
    "        for line in samples.readlines():\n",
    "            line.strip()\n",
    "            img, label = line.split('\\t')\n",
    "            img = [int(img_item) for img_item in img.split(' ')]\n",
    "            img_set.append(img)\n",
    "            label = int(label)\n",
    "            label_set.append(label)\n",
    "    img_set = np.array(img_set)\n",
    "    label_set = np.array(label_set)\n",
    "    return img_set, label_set\n",
    "\n",
    "# save new data\n",
    "def save_data(data, label,components_,  fname, M):\n",
    "    np.savetxt(fname, data, delimiter = \" \", fmt = '%.3f')\n",
    "    np.savetxt(fname[:-4]+str(M)+'components.txt', components_, delimiter=\" \", fmt = '%.3f')\n",
    "    samples = open(fname, 'r+')\n",
    "    pca_samp = open(fname[:-4]+str(M)+'_pca.txt', 'a')\n",
    "    count = 0\n",
    "    for line in samples.readlines():\n",
    "        line.strip()\n",
    "        # assign ID for each img to identify\n",
    "        new_line = line[:-1]+'\\t'+str(label[count])+'\\t'+str(count)+'\\n'\n",
    "        count = count + 1\n",
    "        pca_samp.write(new_line)\n",
    "    samples.close()\n",
    "    pca_samp.close()\n",
    "    os.remove(fname)\n",
    "    print('PCA data saved as: ', fname[:-4]+str(M)+'pca.txt')\n",
    "    print('Components saved as: ',fname[:-4]+str(M)+'components.txt')\n",
    "    \n",
    "    \n",
    "def visualize_eigenPic(reduce_dim,num_viz_pca,pv_dir):\n",
    "    # load principle vectors from your local machine, e.g., here we suppose that the PCA vectors of the training\n",
    "    # set is stored in a file named 'pca_components_20' in the ./mnist/ directory\n",
    "#     pv_dir = 'mnist/pca_components_' + str(reduce_dim)\n",
    "    \n",
    "    pvs = np.empty((reduce_dim, 784))\n",
    "    with open(pv_dir, 'r') as f:\n",
    "        # Some pre-processing steps, depending on how you store your principle vectors\n",
    "        # Here, we suppose that each row is corresponding to a principle vectors with string\n",
    "        # type, e.g, a row can be: '0.5, 0.2, 0.3, ..., 0.21', each element is separated by ','.\n",
    "        for k, line in enumerate(f.readlines()):\n",
    "            line = line.strip().split(' ')\n",
    "            # the k-th principle vectors\n",
    "            pv_k = np.array(list(map(float, line)))\n",
    "            pvs [k] = pv_k\n",
    "\n",
    "    # visualize the principle vectors\n",
    "    fig, ax = plt.subplots(num_viz_pca // 5, 5)\n",
    "    # YOU NEED TO FILL IN YOUR SID IN THE FOLLOWING LINE\n",
    "    fig.suptitle('Visualization of Eigendigits ({})'.format('1155161048'))\n",
    "    ax = ax.reshape(-1)\n",
    "    for k, pv in enumerate(pvs [:num_viz_pca]):\n",
    "        pv = pv.reshape(28, 28)\n",
    "        ax[k].imshow(pv, cmap='gray')\n",
    "        ax[k].set_title('pv-{}'.format(k + 1))\n",
    "        ax[k].axis('off')\n",
    "\n",
    "    fig.savefig('./viz_pca_vectors_{}.png'.format(num_viz_pca))\n",
    "\n"
   ]
  },
  {
   "cell_type": "markdown",
   "metadata": {},
   "source": [
    "### 3.1 Test the correctness of myPCA from Question1 using PCA - sklearn package"
   ]
  },
  {
   "cell_type": "code",
   "execution_count": 368,
   "metadata": {},
   "outputs": [
    {
     "name": "stdout",
     "output_type": "stream",
     "text": [
      "[[ 0.15100763  0.39059057]\n",
      " [-2.83262452  0.04251018]\n",
      " [-1.23978299  0.14493442]\n",
      " [ 1.21585172  1.46588103]\n",
      " [ 2.13427285 -0.78910758]\n",
      " [-0.09174666 -1.85020038]\n",
      " [ 0.45982034 -0.57570604]\n",
      " [ 0.20320163  1.17109781]]\n",
      "[[-0.15100763 -0.39059057]\n",
      " [ 2.83262452 -0.04251018]\n",
      " [ 1.23978299 -0.14493442]\n",
      " [-1.21585172 -1.46588103]\n",
      " [-2.13427285  0.78910758]\n",
      " [ 0.09174666  1.85020038]\n",
      " [-0.45982034  0.57570604]\n",
      " [-0.20320163 -1.17109781]]\n",
      "I get the same result with standard sklearn PCA package! Woooh~\n",
      "The result are only different in scale.\n"
     ]
    }
   ],
   "source": [
    "X = [[7,4,3,4],\n",
    "          [4,1,8,3],\n",
    "          [6,3,5,2],\n",
    "          [8,3,2,10],\n",
    "          [4,5,0,9],\n",
    "          [1,3,2,5],\n",
    "          [6,6,3,2],\n",
    "          [8,3,3,6]]\n",
    "X = np.array(X)\n",
    "test_pca1, components_, values_, eigen_vectors,eigen_values = myPCA(X, 2)\n",
    "test_pca2, test_ratio, test_values, test_comp = useSkPCA(X, 2)\n",
    "print(test_pca1)\n",
    "print(test_pca2)\n",
    "print('I get the same result with standard sklearn PCA package! Woooh~')\n",
    "print('The result are only different in scale.')"
   ]
  },
  {
   "cell_type": "code",
   "execution_count": 360,
   "metadata": {},
   "outputs": [
    {
     "data": {
      "image/png": "[encoded data removed]",
      "text/plain": [
       "<Figure size 432x288 with 1 Axes>"
      ]
     },
     "metadata": {
      "needs_background": "light"
     },
     "output_type": "display_data"
    }
   ],
   "source": [
    "plt.scatter(test_pca1[:,0],test_pca1[:,1])\n",
    "plt.show()"
   ]
  },
  {
   "cell_type": "code",
   "execution_count": 361,
   "metadata": {},
   "outputs": [
    {
     "data": {
      "image/png": "[encoded data removed]",
      "text/plain": [
       "<Figure size 432x288 with 1 Axes>"
      ]
     },
     "metadata": {
      "needs_background": "light"
     },
     "output_type": "display_data"
    }
   ],
   "source": [
    "plt.scatter(test_pca2[:,0],test_pca2[:,1])\n",
    "plt.show()"
   ]
  },
  {
   "cell_type": "markdown",
   "metadata": {},
   "source": [
    "### 3.2 Dimension reduction for MINIST dataset"
   ]
  },
  {
   "cell_type": "code",
   "execution_count": 12,
   "metadata": {},
   "outputs": [],
   "source": [
    "fname = './train.txt'\n",
    "train_data, train_label = load_raw(fname)\n",
    "fname = './test.txt'\n",
    "test_data, test_label = load_raw(fname)"
   ]
  },
  {
   "cell_type": "code",
   "execution_count": 13,
   "metadata": {},
   "outputs": [
    {
     "name": "stdout",
     "output_type": "stream",
     "text": [
      "(60000, 784)\n",
      "(10000, 784)\n"
     ]
    }
   ],
   "source": [
    "print(train_data.shape)\n",
    "print(test_data.shape)\n",
    "M = 30 # new dimension"
   ]
  },
  {
   "cell_type": "markdown",
   "metadata": {},
   "source": [
    "##### Use my original function"
   ]
  },
  {
   "cell_type": "code",
   "execution_count": 19,
   "metadata": {},
   "outputs": [],
   "source": [
    "%%time\n",
    "test_data_pca, components_test, values_test, eig_vec_test, eig_val_test = myPCA(test_data, M)\n",
    "train_data_pca, components_train, values_train, eig_vec_train, eig_val_train = myPCA(train_data, M)\n",
    "# save_data(test_data_pca, test_label , components_, 'test_my_.txt', M)\n",
    "save_data(train_data_pca, train_label, components_train, 'train_my_.txt', M)"
   ]
  },
  {
   "cell_type": "code",
   "execution_count": 18,
   "metadata": {},
   "outputs": [
    {
     "name": "stdout",
     "output_type": "stream",
     "text": [
      "PCA data saved as:  train_my_30pca.txt\n",
      "Components saved as:  train_my_30components.txt\n"
     ]
    }
   ],
   "source": []
  },
  {
   "cell_type": "markdown",
   "metadata": {},
   "source": [
    "##### Use sklearn PCA function"
   ]
  },
  {
   "cell_type": "code",
   "execution_count": 365,
   "metadata": {},
   "outputs": [
    {
     "name": "stdout",
     "output_type": "stream",
     "text": [
      "PCA data saved as:  test_skt_20pca.txt\n",
      "Components saved as:  test_skt_20components.txt\n",
      "PCA data saved as:  train_skt_20pca.txt\n",
      "Components saved as:  train_skt_20components.txt\n",
      "Wall time: 1min 39s\n"
     ]
    }
   ],
   "source": [
    "%%time\n",
    "test_data_pca, _, values_, components_= useSkPCA(test_data, M)\n",
    "train_data_pca, _, values_, components_ = useSkPCA(train_data, M)\n",
    "save_data(test_data_pca, test_label , components_, 'test_skt_.txt', M)\n",
    "save_data(train_data_pca, train_label, components_, 'train_skt_.txt', M)"
   ]
  },
  {
   "cell_type": "markdown",
   "metadata": {},
   "source": [
    "#### Double check: my implementation of PCA"
   ]
  },
  {
   "cell_type": "code",
   "execution_count": 10,
   "metadata": {
    "scrolled": false
   },
   "outputs": [
    {
     "data": {
      "image/png": "[encoded data removed]",
      "text/plain": [
       "<Figure size 432x288 with 10 Axes>"
      ]
     },
     "metadata": {
      "needs_background": "light"
     },
     "output_type": "display_data"
    }
   ],
   "source": [
    "reduce_dim = M\n",
    "num_viz_pca = 10\n",
    "# pv_dir = 'test_my_'+str(M)+'components.txt'\n",
    "pv_dir = 'train_my_'+str(M)+'components.txt'\n",
    "\n",
    "visualize_eigenPic(reduce_dim,num_viz_pca, pv_dir)"
   ]
  },
  {
   "cell_type": "code",
   "execution_count": 8,
   "metadata": {},
   "outputs": [
    {
     "data": {
      "image/png": "[encoded data removed]",
      "text/plain": [
       "<Figure size 432x288 with 10 Axes>"
      ]
     },
     "metadata": {
      "needs_background": "light"
     },
     "output_type": "display_data"
    }
   ],
   "source": [
    "reduce_dim = M\n",
    "num_viz_pca = 10\n",
    "pv_dir = 'train_my_'+str(M)+'components.txt'\n",
    "# pv_dir = 'train_my_'+str(M)+'components.txt'\n",
    "\n",
    "visualize_eigenPic(reduce_dim,num_viz_pca, pv_dir)"
   ]
  },
  {
   "cell_type": "markdown",
   "metadata": {},
   "source": [
    "#### Double check: third party sklearn implementation of PCA"
   ]
  },
  {
   "cell_type": "code",
   "execution_count": 367,
   "metadata": {},
   "outputs": [
    {
     "data": {
      "image/png": "[encoded data removed]",
      "text/plain": [
       "<Figure size 432x288 with 10 Axes>"
      ]
     },
     "metadata": {
      "needs_background": "light"
     },
     "output_type": "display_data"
    }
   ],
   "source": [
    "reduce_dim = M\n",
    "num_viz_pca = 10\n",
    "# pv_dir = 'test_my_'+str(M)+'components.txt'\n",
    "pv_dir = 'test_skt_'+str(M)+'components.txt'\n",
    "\n",
    "visualize_eigenPic(reduce_dim,num_viz_pca, pv_dir)"
   ]
  },
  {
   "cell_type": "markdown",
   "metadata": {},
   "source": [
    "### 3.3 Clustering result"
   ]
  },
  {
   "cell_type": "code",
   "execution_count": 375,
   "metadata": {},
   "outputs": [
    {
     "data": {
      "text/html": [
       "<div>\n",
       "<style scoped>\n",
       "    .dataframe tbody tr th:only-of-type {\n",
       "        vertical-align: middle;\n",
       "    }\n",
       "\n",
       "    .dataframe tbody tr th {\n",
       "        vertical-align: top;\n",
       "    }\n",
       "\n",
       "    .dataframe thead th {\n",
       "        text-align: right;\n",
       "    }\n",
       "</style>\n",
       "<table border=\"1\" class=\"dataframe\">\n",
       "  <thead>\n",
       "    <tr style=\"text-align: right;\">\n",
       "      <th></th>\n",
       "      <th>label</th>\n",
       "      <th>img</th>\n",
       "      <th>ID</th>\n",
       "      <th>index</th>\n",
       "    </tr>\n",
       "  </thead>\n",
       "  <tbody>\n",
       "    <tr>\n",
       "      <th>0</th>\n",
       "      <td>5</td>\n",
       "      <td>0.922 -4.815 -0.068 -8.051 -0.985 0.952 0.336 ...</td>\n",
       "      <td>0</td>\n",
       "      <td>6</td>\n",
       "    </tr>\n",
       "    <tr>\n",
       "      <th>1</th>\n",
       "      <td>0</td>\n",
       "      <td>-8.709 -7.754 3.448 -1.668 0.835 -5.145 -0.272...</td>\n",
       "      <td>1</td>\n",
       "      <td>0</td>\n",
       "    </tr>\n",
       "    <tr>\n",
       "      <th>2</th>\n",
       "      <td>4</td>\n",
       "      <td>-2.328 9.431 6.184 1.725 4.092 2.291 18.692 -3...</td>\n",
       "      <td>2</td>\n",
       "      <td>5</td>\n",
       "    </tr>\n",
       "    <tr>\n",
       "      <th>3</th>\n",
       "      <td>1</td>\n",
       "      <td>6.582 -3.746 -3.691 -0.461 5.627 3.462 1.561 4...</td>\n",
       "      <td>3</td>\n",
       "      <td>9</td>\n",
       "    </tr>\n",
       "    <tr>\n",
       "      <th>4</th>\n",
       "      <td>9</td>\n",
       "      <td>5.183 3.133 6.278 1.460 -1.609 -0.613 -0.580 3...</td>\n",
       "      <td>4</td>\n",
       "      <td>7</td>\n",
       "    </tr>\n",
       "    <tr>\n",
       "      <th>...</th>\n",
       "      <td>...</td>\n",
       "      <td>...</td>\n",
       "      <td>...</td>\n",
       "      <td>...</td>\n",
       "    </tr>\n",
       "    <tr>\n",
       "      <th>59995</th>\n",
       "      <td>8</td>\n",
       "      <td>2.039 -5.119 -0.375 -4.688 -0.646 2.902 -0.222...</td>\n",
       "      <td>59995</td>\n",
       "      <td>6</td>\n",
       "    </tr>\n",
       "    <tr>\n",
       "      <th>59996</th>\n",
       "      <td>3</td>\n",
       "      <td>-0.608 -6.498 -3.507 -8.397 -1.010 1.240 3.968...</td>\n",
       "      <td>59996</td>\n",
       "      <td>6</td>\n",
       "    </tr>\n",
       "    <tr>\n",
       "      <th>59997</th>\n",
       "      <td>5</td>\n",
       "      <td>3.777 -3.231 3.806 -7.504 -1.362 -2.879 1.698 ...</td>\n",
       "      <td>59997</td>\n",
       "      <td>3</td>\n",
       "    </tr>\n",
       "    <tr>\n",
       "      <th>59998</th>\n",
       "      <td>6</td>\n",
       "      <td>-1.722 -4.948 -0.007 7.151 -0.925 -5.067 3.643...</td>\n",
       "      <td>59998</td>\n",
       "      <td>8</td>\n",
       "    </tr>\n",
       "    <tr>\n",
       "      <th>59999</th>\n",
       "      <td>8</td>\n",
       "      <td>1.427 -6.175 2.968 -0.392 3.498 2.798 -0.357 2...</td>\n",
       "      <td>59999</td>\n",
       "      <td>3</td>\n",
       "    </tr>\n",
       "  </tbody>\n",
       "</table>\n",
       "<p>60000 rows × 4 columns</p>\n",
       "</div>"
      ],
      "text/plain": [
       "       label                                                img     ID  index\n",
       "0          5  0.922 -4.815 -0.068 -8.051 -0.985 0.952 0.336 ...      0      6\n",
       "1          0  -8.709 -7.754 3.448 -1.668 0.835 -5.145 -0.272...      1      0\n",
       "2          4  -2.328 9.431 6.184 1.725 4.092 2.291 18.692 -3...      2      5\n",
       "3          1  6.582 -3.746 -3.691 -0.461 5.627 3.462 1.561 4...      3      9\n",
       "4          9  5.183 3.133 6.278 1.460 -1.609 -0.613 -0.580 3...      4      7\n",
       "...      ...                                                ...    ...    ...\n",
       "59995      8  2.039 -5.119 -0.375 -4.688 -0.646 2.902 -0.222...  59995      6\n",
       "59996      3  -0.608 -6.498 -3.507 -8.397 -1.010 1.240 3.968...  59996      6\n",
       "59997      5  3.777 -3.231 3.806 -7.504 -1.362 -2.879 1.698 ...  59997      3\n",
       "59998      6  -1.722 -4.948 -0.007 7.151 -0.925 -5.067 3.643...  59998      8\n",
       "59999      8  1.427 -6.175 2.968 -0.392 3.498 2.798 -0.357 2...  59999      3\n",
       "\n",
       "[60000 rows x 4 columns]"
      ]
     },
     "execution_count": 375,
     "metadata": {},
     "output_type": "execute_result"
    }
   ],
   "source": [
    "# TODOs\n",
    "# 1. count the number of images belong to this cluster\n",
    "# 2. find the major label for this cluster\n",
    "# 3. count the number of correctly clustered images\n",
    "# 4. cal the calssification accuracy\n",
    "# Files needed: a) K-means result, b)train.txt\n",
    "\n",
    "import sys\n",
    "import os\n",
    "import numpy as np\n",
    "import gc\n",
    "import pandas as pd\n",
    "\n",
    "random_seed = 1001\n",
    "train_file = './train_my_20_pca.txt'\n",
    "cluster_file = './cluster_'+str(random_seed)+'.txt'\n",
    "\n",
    "img_train = []\n",
    "label_train = []\n",
    "ID_train = []\n",
    "with open(train_file) as samples:\n",
    "    for line in samples.readlines():\n",
    "        line = line.strip()\n",
    "        img, label,ID = line.split('\\t')\n",
    "        label = int(label)\n",
    "        # img = [int(img_item) for img_item in img.split(' ')]\n",
    "        img_train.append(img)\n",
    "        label_train.append(label)\n",
    "        ID_train.append(ID)\n",
    "# ground truth table\n",
    "\n",
    "GT = pd.DataFrame({'label':label_train, 'img':img_train, 'ID':ID_train})\n",
    "\n",
    "del img_train, label_train, ID_train\n",
    "gc.collect()\n",
    "\n",
    "\n",
    "\n",
    "img_cluster = []\n",
    "index_cluster = []\n",
    "ID_cluster = []\n",
    "with open(cluster_file) as data:\n",
    "    for line in data.readlines():\n",
    "        line = line.strip()\n",
    "        index, img, ID = line.split('\\t')\n",
    "        index = int(index)\n",
    "        # img = [int(img_item) for img_item in img.split(' ')]\n",
    "        img_cluster.append(img)\n",
    "        index_cluster.append(index)\n",
    "        ID_cluster.append(ID)\n",
    "\n",
    "cluster_result = pd.DataFrame({'index':index_cluster, 'img':img_cluster, 'ID':ID_cluster})\n",
    "\n",
    "del img_cluster, index_cluster\n",
    "gc.collect()\n",
    "\n",
    "GT_cluster = GT.merge(cluster_result, how = 'left', on='ID')\n",
    "\n",
    "del GT, cluster_result\n",
    "gc.collect()\n",
    "GT_cluster.drop(columns = 'img_y', axis = 1, inplace = True)\n",
    "GT_cluster.rename({'img_x':'img'}, axis = 1, inplace = True)\n",
    "\n",
    "GT_cluster"
   ]
  },
  {
   "cell_type": "code",
   "execution_count": 376,
   "metadata": {},
   "outputs": [
    {
     "name": "stdout",
     "output_type": "stream",
     "text": [
      "sum of images: 60000 #correct clustered: 29490 avg acc:  0.4915\n"
     ]
    },
    {
     "data": {
      "text/html": [
       "<div>\n",
       "<style scoped>\n",
       "    .dataframe tbody tr th:only-of-type {\n",
       "        vertical-align: middle;\n",
       "    }\n",
       "\n",
       "    .dataframe tbody tr th {\n",
       "        vertical-align: top;\n",
       "    }\n",
       "\n",
       "    .dataframe thead th {\n",
       "        text-align: right;\n",
       "    }\n",
       "</style>\n",
       "<table border=\"1\" class=\"dataframe\">\n",
       "  <thead>\n",
       "    <tr style=\"text-align: right;\">\n",
       "      <th></th>\n",
       "      <th>#train images to this cluster</th>\n",
       "      <th>major label</th>\n",
       "      <th>#correct clustered</th>\n",
       "      <th>accuracy</th>\n",
       "    </tr>\n",
       "  </thead>\n",
       "  <tbody>\n",
       "    <tr>\n",
       "      <th>0</th>\n",
       "      <td>6166</td>\n",
       "      <td>3</td>\n",
       "      <td>2007</td>\n",
       "      <td>32.549465</td>\n",
       "    </tr>\n",
       "    <tr>\n",
       "      <th>1</th>\n",
       "      <td>3188</td>\n",
       "      <td>0</td>\n",
       "      <td>2709</td>\n",
       "      <td>84.974906</td>\n",
       "    </tr>\n",
       "    <tr>\n",
       "      <th>2</th>\n",
       "      <td>3727</td>\n",
       "      <td>2</td>\n",
       "      <td>1884</td>\n",
       "      <td>50.550040</td>\n",
       "    </tr>\n",
       "    <tr>\n",
       "      <th>3</th>\n",
       "      <td>5464</td>\n",
       "      <td>5</td>\n",
       "      <td>1912</td>\n",
       "      <td>34.992679</td>\n",
       "    </tr>\n",
       "    <tr>\n",
       "      <th>4</th>\n",
       "      <td>3612</td>\n",
       "      <td>2</td>\n",
       "      <td>1401</td>\n",
       "      <td>38.787375</td>\n",
       "    </tr>\n",
       "    <tr>\n",
       "      <th>5</th>\n",
       "      <td>5100</td>\n",
       "      <td>4</td>\n",
       "      <td>1723</td>\n",
       "      <td>33.784314</td>\n",
       "    </tr>\n",
       "    <tr>\n",
       "      <th>6</th>\n",
       "      <td>6031</td>\n",
       "      <td>8</td>\n",
       "      <td>3030</td>\n",
       "      <td>50.240424</td>\n",
       "    </tr>\n",
       "    <tr>\n",
       "      <th>7</th>\n",
       "      <td>9780</td>\n",
       "      <td>7</td>\n",
       "      <td>3704</td>\n",
       "      <td>37.873211</td>\n",
       "    </tr>\n",
       "    <tr>\n",
       "      <th>8</th>\n",
       "      <td>6050</td>\n",
       "      <td>6</td>\n",
       "      <td>4566</td>\n",
       "      <td>75.471074</td>\n",
       "    </tr>\n",
       "    <tr>\n",
       "      <th>9</th>\n",
       "      <td>10882</td>\n",
       "      <td>1</td>\n",
       "      <td>6554</td>\n",
       "      <td>60.227899</td>\n",
       "    </tr>\n",
       "  </tbody>\n",
       "</table>\n",
       "</div>"
      ],
      "text/plain": [
       "   #train images to this cluster  major label  #correct clustered   accuracy\n",
       "0                           6166            3                2007  32.549465\n",
       "1                           3188            0                2709  84.974906\n",
       "2                           3727            2                1884  50.550040\n",
       "3                           5464            5                1912  34.992679\n",
       "4                           3612            2                1401  38.787375\n",
       "5                           5100            4                1723  33.784314\n",
       "6                           6031            8                3030  50.240424\n",
       "7                           9780            7                3704  37.873211\n",
       "8                           6050            6                4566  75.471074\n",
       "9                          10882            1                6554  60.227899"
      ]
     },
     "execution_count": 376,
     "metadata": {},
     "output_type": "execute_result"
    }
   ],
   "source": [
    "num_train_images = list(GT_cluster['index'].value_counts().sort_index())\n",
    "# group by index\n",
    "for i in range(10):\n",
    "    name='index_'+str(i)\n",
    "    locals()['index_'+str(i)]=GT_cluster[GT_cluster['index'] == i]\n",
    "\n",
    "num_correct = []\n",
    "major_label = []\n",
    "acc = [] # acc\n",
    "for i in range(10):\n",
    "    n_c = locals()['index_'+str(i)]['label'].value_counts().max()\n",
    "    m_l = locals()['index_'+str(i)]['label'].value_counts().idxmax()\n",
    "    n_a = len(locals()['index_'+str(i)]) # number of images in this index\n",
    "    num_correct.append(n_c)\n",
    "    major_label.append(m_l)\n",
    "    acc.append((n_c / n_a)*100)\n",
    "\n",
    "result = pd.DataFrame({'#train images to this cluster': num_train_images, 'major label': major_label,\n",
    "                      '#correct clustered':num_correct, 'accuracy': acc})\n",
    "print('sum of images:', sum(result['#train images to this cluster']), '#correct clustered:', sum(result['#correct clustered']),\n",
    "                           'avg acc: ',  sum(result['#correct clustered']) / sum(result['#train images to this cluster']))\n",
    "result"
   ]
  },
  {
   "cell_type": "markdown",
   "metadata": {},
   "source": [
    "## Question3"
   ]
  },
  {
   "cell_type": "markdown",
   "metadata": {},
   "source": [
    "#### 1. Item-Item Collaborative Filtering\n"
   ]
  },
  {
   "cell_type": "code",
   "execution_count": 188,
   "metadata": {},
   "outputs": [],
   "source": [
    "# rating matrix\n",
    "R = [\n",
    "    [2,1,5,4,3,np.nan],\n",
    "    [np.nan, 2, np.nan,3, 5,4],\n",
    "    [5,np.nan,4,1,4,2],\n",
    "    [2,3,4,5,np.nan, np.nan],\n",
    "    [np.nan,4,1,np.nan,3,2]\n",
    "]\n",
    "\n",
    "# goal: R[3][4]\n",
    "R = np.array(R)"
   ]
  },
  {
   "cell_type": "code",
   "execution_count": 86,
   "metadata": {},
   "outputs": [
    {
     "name": "stdout",
     "output_type": "stream",
     "text": [
      "[-1.  0.  2. -1.  0.]\n",
      "[-1.5 -0.5  0.   0.5  1.5]\n",
      "[ 1.5  0.   0.5  0.5 -2.5]\n",
      "[ 0.75 -0.25 -2.25  1.75  0.  ]\n",
      "[-0.75  1.25  0.25  0.   -0.75]\n",
      "[ 0.          1.33333333 -0.66666667  0.         -0.66666667]\n",
      "similarity [0.30772872744833185, -0.1685499656158105, 0.17588161767036212, -0.2930471350766347, 1.0, 0.7385489458759964]\n"
     ]
    }
   ],
   "source": [
    "sims = []\n",
    "for i in range(6):\n",
    "    a = R.T[4] - np.nanmean(R.T[4])\n",
    "    b = R.T[i] - np.nanmean(R.T[i])\n",
    "    a[np.isnan(a)] = 0\n",
    "    b[np.isnan(b)] = 0\n",
    "    print(b)\n",
    "    sim = np.corrcoef(a,b)[0][1]\n",
    "    sims.append(sim)\n",
    "print('similarity',sims)    "
   ]
  },
  {
   "cell_type": "code",
   "execution_count": 84,
   "metadata": {},
   "outputs": [
    {
     "name": "stdout",
     "output_type": "stream",
     "text": [
      "2.727369128661609\n"
     ]
    }
   ],
   "source": [
    "index1 =np.flip(np.argsort(sims))[2:4][0]\n",
    "index2 = np.flip(np.argsort(sims))[2:4][1]\n",
    "w1 = sims[index1]\n",
    "w2 = sims[index2]\n",
    "pred = (w1*R.T[index1][3] + w2 * R.T[index2][3]) / (w1 + w2)\n",
    "print(pred)"
   ]
  },
  {
   "cell_type": "markdown",
   "metadata": {},
   "source": [
    "#### 2. User-User Collaborative Filtering\n"
   ]
  },
  {
   "cell_type": "code",
   "execution_count": 91,
   "metadata": {},
   "outputs": [
    {
     "name": "stdout",
     "output_type": "stream",
     "text": [
      "[-1. -2.  2.  1.  0.  0.]\n",
      "[ 0.  -1.5  0.  -0.5  1.5  0.5]\n",
      "[ 1.8  0.   0.8 -2.2  0.8 -1.2]\n",
      "[-1.5 -0.5  0.5  1.5  0.   0. ]\n",
      "[ 0.   1.5 -1.5  0.   0.5 -0.5]\n",
      "similarity [0.7071067811865475, 0.0, -0.7620634755325442, 0.9999999999999998, -0.29999999999999993]\n"
     ]
    }
   ],
   "source": [
    "sims = []\n",
    "for i in range(5):\n",
    "    a = R[3] - np.nanmean(R[3])\n",
    "    b = R[i] - np.nanmean(R[i])\n",
    "    a[np.isnan(a)] = 0\n",
    "    b[np.isnan(b)] = 0\n",
    "    print(b)\n",
    "    sim = np.dot(a, b)/(np.linalg.norm(a)*np.linalg.norm(b))\n",
    "#     sim = np.corrcoef(a,b)[0][1]\n",
    "    sims.append(sim)\n",
    "print('similarity',sims)\n"
   ]
  },
  {
   "cell_type": "code",
   "execution_count": 92,
   "metadata": {
    "scrolled": true
   },
   "outputs": [
    {
     "name": "stdout",
     "output_type": "stream",
     "text": [
      "3.0\n"
     ]
    }
   ],
   "source": [
    "index1 =np.flip(np.argsort(sims))[1:3][0]\n",
    "index2 = np.flip(np.argsort(sims))[1:3][1]\n",
    "w1 = sims[index1]\n",
    "w2 = sims[index2]\n",
    "pred = (w1*R[index1][4] + w2 * R.T[index2][4]) / (w1 + w2)\n",
    "print(pred)"
   ]
  },
  {
   "cell_type": "markdown",
   "metadata": {},
   "source": [
    "#### 3. Matrix Factorization"
   ]
  },
  {
   "cell_type": "code",
   "execution_count": 249,
   "metadata": {},
   "outputs": [],
   "source": [
    "#!/usr/bin/python\n",
    "#\n",
    "# Created by Albert Au Yeung (2010)\n",
    "#\n",
    "# An implementation of matrix factorization\n",
    "#\n",
    "try:\n",
    "    import numpy\n",
    "except:\n",
    "    print(\"This implementation requires the numpy module.\")\n",
    "    exit(0)\n",
    "\n",
    "###############################################################################\n",
    "\n",
    "\"\"\"\n",
    "@INPUT:\n",
    "    R     : a matrix to be factorized, dimension N x M\n",
    "    P     : an initial matrix of dimension N x K\n",
    "    Q     : an initial matrix of dimension M x K\n",
    "    K     : the number of latent features\n",
    "    steps : the maximum number of steps to perform the optimisation\n",
    "    alpha : the learning rate\n",
    "    beta  : the regularization parameter\n",
    "@OUTPUT:\n",
    "    the final matrices P and Q\n",
    "\"\"\"\n",
    "######################### Original #############################################\n",
    "def bug_matrix_factorization(R, P, Q, K, steps=5000, alpha=0.0002, beta=0.02):\n",
    "    Q = Q.T\n",
    "    for step in range(steps):\n",
    "        for i in range(len(R)):\n",
    "            for j in range(len(R[i])):\n",
    "                if R[i][j] > 0:\n",
    "                    eij = R[i][j] - numpy.dot(P[i,:],Q[:,j])\n",
    "                    for k in range(K):\n",
    "                        P[i][k] = P[i][k] + alpha * (2 * eij * Q[k][j] - beta * P[i][k])\n",
    "                        Q[k][j] = Q[k][j] + alpha * (2 * eij * P[i][k] - beta * Q[k][j])\n",
    "        eR = numpy.dot(P,Q)\n",
    "        e = 0\n",
    "        for i in range(len(R)):\n",
    "            for j in range(len(R[i])):\n",
    "                if R[i][j] > 0:\n",
    "                    e = e + pow(R[i][j] - numpy.dot(P[i,:],Q[:,j]), 2)\n",
    "                    for k in range(K):\n",
    "                        e = e + (beta/2) * ( pow(P[i][k],2) + pow(Q[k][j],2) )\n",
    "        if step % 2000 == 0:\n",
    "            print('loss:',e)\n",
    "        if e < 0.001:\n",
    "            break\n",
    "    return P, Q.T\n",
    "\n",
    "\n",
    "##################### Use Temp ################################\n",
    "def matrix_factorization(R, P, Q, K, steps=5000, alpha=0.0002, beta=0.02):\n",
    "    Q = Q.T\n",
    "    for step in range(steps):\n",
    "        for i in range(len(R)):\n",
    "            for j in range(len(R[i])):\n",
    "                if R[i][j] > 0:\n",
    "                    eij = R[i][j] - numpy.dot(P[i,:],Q[:,j])\n",
    "                    for k in range(K):\n",
    "                        # we should use old P value to update Q\n",
    "                        P_temp = P[i][k] + alpha * (2 * eij * Q[k][j] - beta * P[i][k])\n",
    "                        Q_temp = Q[k][j] + alpha * (2 * eij * P[i][k] - beta * Q[k][j])\n",
    "                        P[i][k] = P_temp\n",
    "                        Q[k][j] = Q_temp\n",
    "        eR = numpy.dot(P,Q)\n",
    "        e = 0\n",
    "        for i in range(len(R)):\n",
    "            for j in range(len(R[i])):\n",
    "                if R[i][j] > 0:\n",
    "                    e = e + pow(R[i][j] - numpy.dot(P[i,:],Q[:,j]), 2)\n",
    "                    for k in range(K):\n",
    "                        e = e + (beta/2) * ( pow(P[i][k],2) + pow(Q[k][j],2) )\n",
    "        if step % 2000 == 0:\n",
    "            print('loss:',e)\n",
    "        if e < 0.001:\n",
    "            break\n",
    "    return P, Q.T\n",
    "\n",
    "######################### Use old table ##############################\n",
    "# def matrix_factorization(R, P, Q, K, steps=5000, alpha=0.0002, beta=0.02):\n",
    "#     Q = Q.T\n",
    "#     for step in range(steps):\n",
    "#         Q_old = Q\n",
    "#         P_old = P\n",
    "#         for i in range(len(R)):\n",
    "#             for j in range(len(R[i])):\n",
    "#                 if R[i][j] > 0:\n",
    "#                     eij = R[i][j] - numpy.dot(P[i,:],Q[:,j])\n",
    "#                     for k in range(K):\n",
    "#                         # we should use old P value to update Q\n",
    "#                         P[i][k] = P[i][k] + alpha * (2 * eij * Q_old[k][j] - beta * P[i][k])\n",
    "#                         Q[k][j] = Q[k][j] + alpha * (2 * eij * P_old[i][k] - beta * Q[k][j])\n",
    "#         eR = numpy.dot(P,Q)\n",
    "#         e = 0\n",
    "#         for i in range(len(R)):\n",
    "#             for j in range(len(R[i])):\n",
    "#                 if R[i][j] > 0:\n",
    "#                     e = e + pow(R[i][j] - numpy.dot(P[i,:],Q[:,j]), 2)\n",
    "#                     for k in range(K):\n",
    "#                         e = e + (beta/2) * ( pow(P[i][k],2) + pow(Q[k][j],2) )\n",
    "#         if step % 2000 == 0:\n",
    "#             print('loss:',e)\n",
    "#         if e < 0.001:\n",
    "#             break\n",
    "#     return P, Q.T\n",
    "\n",
    "\n",
    "################################################################\n",
    "R = [\n",
    "    [2,1,5,4,3,np.nan],\n",
    "    [np.nan, 2, np.nan,3, 5,4],\n",
    "    [5,np.nan,4,1,4,2],\n",
    "    [2,3,4,5,np.nan, np.nan],\n",
    "    [np.nan,4,1,np.nan,3,2]\n",
    "]\n",
    "\n",
    "R = numpy.array(R)"
   ]
  },
  {
   "cell_type": "markdown",
   "metadata": {},
   "source": [
    "#### K = 5: Latent feature is 5."
   ]
  },
  {
   "cell_type": "code",
   "execution_count": 246,
   "metadata": {},
   "outputs": [
    {
     "name": "stdout",
     "output_type": "stream",
     "text": [
      "---matrix factorization without bug---\n",
      "loss: 115.15941820924297\n",
      "loss: 2.1919335322802587\n",
      "loss: 2.162208998044252\n",
      "loss: 2.1440971647548923\n",
      "loss: 2.1328026985670734\n",
      "loss: 2.1255645091797666\n",
      "loss: 2.1207803432701433\n",
      "loss: 2.1175135458708776\n",
      "loss: 2.1152100297149863\n",
      "loss: 2.11353650292119\n",
      "prediction result: 3.371551540207195\n",
      "---matrix factorization with bug---\n",
      "loss: 115.15139010751504\n",
      "loss: 2.1919804903960993\n",
      "loss: 2.16225220485502\n",
      "loss: 2.1441320487619167\n",
      "loss: 2.132829207157622\n",
      "loss: 2.125584046896405\n",
      "loss: 2.120794533512445\n",
      "loss: 2.1175237980526784\n",
      "loss: 2.1152174437171953\n",
      "loss: 2.113541895126308\n",
      "prediction result: 3.371627196107824\n"
     ]
    }
   ],
   "source": [
    "config = {\n",
    "    'steps': 20000,\n",
    "    'alpha':0.001,\n",
    "    'beta': 0.02,\n",
    "    'K': 5,\n",
    "    'seed':2022\n",
    "}\n",
    "N = len(R)\n",
    "M = len(R[0])\n",
    "K = config['K']\n",
    "\n",
    "print('---matrix factorization without bug---')\n",
    "numpy.random.seed(config['seed'])\n",
    "P = numpy.random.rand(N,K)\n",
    "Q = numpy.random.rand(M,K)\n",
    "nP, nQ = matrix_factorization(R, P, Q, config['K'], config['steps'], config['alpha'], config['beta'])\n",
    "nR = numpy.dot(nP, nQ.T)\n",
    "print('prediction result:',nR[3][4])\n",
    "\n",
    "print('---matrix factorization with bug---')\n",
    "numpy.random.seed(config['seed'])\n",
    "P = numpy.random.rand(N,K)\n",
    "Q = numpy.random.rand(M,K)\n",
    "nP, nQ = bug_matrix_factorization(R, P, Q, config['K'], config['steps'], config['alpha'], config['beta'])\n",
    "nR = numpy.dot(nP, nQ.T)\n",
    "print('prediction result:',nR[3][4])"
   ]
  },
  {
   "cell_type": "markdown",
   "metadata": {},
   "source": [
    "#### K = 4: Latent feature is 4."
   ]
  },
  {
   "cell_type": "code",
   "execution_count": 247,
   "metadata": {},
   "outputs": [
    {
     "name": "stdout",
     "output_type": "stream",
     "text": [
      "---matrix factorization without bug---\n",
      "loss: 130.16521120768215\n",
      "loss: 2.1555623148434\n",
      "loss: 2.138547309906638\n",
      "loss: 2.13232211032492\n",
      "loss: 2.128050177578919\n",
      "loss: 2.1249381282023116\n",
      "loss: 2.1225525265334344\n",
      "loss: 2.120648679493193\n",
      "loss: 2.119083560292019\n",
      "loss: 2.1177697424048474\n",
      "prediction result: 3.8933722122588046\n",
      "---matrix factorization with bug---\n",
      "loss: 130.1573156887477\n",
      "loss: 2.1552576252238387\n",
      "loss: 2.138428540480703\n",
      "loss: 2.13229328512433\n",
      "loss: 2.1280660886097498\n",
      "loss: 2.1249752907186124\n",
      "loss: 2.122598719037936\n",
      "loss: 2.120697583794476\n",
      "loss: 2.119131967546837\n",
      "loss: 2.1178160880899153\n",
      "prediction result: 3.894096603597353\n"
     ]
    }
   ],
   "source": [
    "config = {\n",
    "    'steps': 20000,\n",
    "    'alpha':0.001,\n",
    "    'beta': 0.02,\n",
    "    'K': 4,\n",
    "    'seed':2022\n",
    "}\n",
    "\n",
    "N = len(R)\n",
    "M = len(R[0])\n",
    "K = config['K']\n",
    "\n",
    "print('---matrix factorization without bug---')\n",
    "numpy.random.seed(config['seed'])\n",
    "P = numpy.random.rand(N,K)\n",
    "Q = numpy.random.rand(M,K)\n",
    "nP, nQ = matrix_factorization(R, P, Q, config['K'], config['steps'], config['alpha'], config['beta'])\n",
    "nR = numpy.dot(nP, nQ.T)\n",
    "print('prediction result:',nR[3][4])\n",
    "\n",
    "print('---matrix factorization with bug---')\n",
    "numpy.random.seed(config['seed'])\n",
    "P = numpy.random.rand(N,K)\n",
    "Q = numpy.random.rand(M,K)\n",
    "nP, nQ = bug_matrix_factorization(R, P, Q, config['K'], config['steps'], config['alpha'], config['beta'])\n",
    "nR = numpy.dot(nP, nQ.T)\n",
    "print('prediction result:',nR[3][4])"
   ]
  },
  {
   "cell_type": "markdown",
   "metadata": {},
   "source": [
    "#### K = 3: Latent feature is 3."
   ]
  },
  {
   "cell_type": "code",
   "execution_count": 248,
   "metadata": {},
   "outputs": [
    {
     "name": "stdout",
     "output_type": "stream",
     "text": [
      "---matrix factorization without bug---\n",
      "loss: 156.66533049221385\n",
      "loss: 2.308218201678767\n",
      "loss: 2.1939000551328043\n",
      "loss: 2.177345375268604\n",
      "loss: 2.1685430629610747\n",
      "loss: 2.1637171639747828\n",
      "loss: 2.160974486755346\n",
      "loss: 2.159354244880864\n",
      "loss: 2.158358864370828\n",
      "loss: 2.1577238171927915\n",
      "prediction result: 3.4068988876470887\n",
      "---matrix factorization with bug---\n",
      "loss: 156.6567149019913\n",
      "loss: 2.3095077909769777\n",
      "loss: 2.1937351505581697\n",
      "loss: 2.1772614998001782\n",
      "loss: 2.168502384603019\n",
      "loss: 2.1636991121688522\n",
      "loss: 2.1609679536857427\n",
      "loss: 2.1593532735467793\n",
      "loss: 2.1583603356080805\n",
      "loss: 2.157726153623477\n",
      "prediction result: 3.4066860745949143\n"
     ]
    }
   ],
   "source": [
    "config = {\n",
    "    'steps': 20000,\n",
    "    'alpha':0.001,\n",
    "    'beta': 0.02,\n",
    "    'K': 3,\n",
    "    'seed':2022\n",
    "}\n",
    "\n",
    "N = len(R)\n",
    "M = len(R[0])\n",
    "K = config['K']\n",
    "\n",
    "print('---matrix factorization without bug---')\n",
    "numpy.random.seed(config['seed'])\n",
    "P = numpy.random.rand(N,K)\n",
    "Q = numpy.random.rand(M,K)\n",
    "nP, nQ = matrix_factorization(R, P, Q, config['K'], config['steps'], config['alpha'], config['beta'])\n",
    "nR = numpy.dot(nP, nQ.T)\n",
    "print('prediction result:',nR[3][4])\n",
    "\n",
    "\n",
    "print('---matrix factorization with bug---')\n",
    "numpy.random.seed(config['seed'])\n",
    "P = numpy.random.rand(N,K)\n",
    "Q = numpy.random.rand(M,K)\n",
    "nP, nQ = bug_matrix_factorization(R, P, Q, config['K'], config['steps'], config['alpha'], config['beta'])\n",
    "nR = numpy.dot(nP, nQ.T)\n",
    "print('prediction result:',nR[3][4])"
   ]
  }
 ],
 "metadata": {
  "kernelspec": {
   "display_name": "Python 3",
   "language": "python",
   "name": "python3"
  },
  "language_info": {
   "codemirror_mode": {
    "name": "ipython",
    "version": 3
   },
   "file_extension": ".py",
   "mimetype": "text/x-python",
   "name": "python",
   "nbconvert_exporter": "python",
   "pygments_lexer": "ipython3",
   "version": "3.7.3"
  }
 },
 "nbformat": 4,
 "nbformat_minor": 2
}
